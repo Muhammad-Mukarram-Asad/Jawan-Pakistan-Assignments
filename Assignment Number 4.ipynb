{
 "cells": [
  {
   "cell_type": "code",
   "execution_count": 1,
   "metadata": {},
   "outputs": [
    {
     "name": "stdout",
     "output_type": "stream",
     "text": [
      "+ - * / **  First of all please enter any symbol from the above list of symbols before we do the operation: \n",
      " Enter the symbol: +\n",
      " Enter the value of first number:10\n",
      " Enter the value of second number:30\n",
      "The Addition of the above given two numbers is =  40\n"
     ]
    }
   ],
   "source": [
    "# Question : 1\n",
    "# Make a calculator using Python with addition, subtraction, multiplication, division and power:\n",
    "symbols = ['+', '-', '*' , '/' , '**']\n",
    "for i in symbols:\n",
    "    print(i , end = \" \")\n",
    "print(\" First of all please enter any symbol from the above list of symbols before we do the operation: \")\n",
    "S = input(\" Enter the symbol: \")\n",
    "if(S == \"+\"):\n",
    "    a = int(input(\" Enter the value of first number:\"))\n",
    "    b = int(input(\" Enter the value of second number:\"))\n",
    "    print(\"The Addition of the above given two numbers is = \" , a+b)\n",
    "elif(S == \"-\"):\n",
    "    a = int(input(\" Enter the value of first number:\"))\n",
    "    b = int(input(\" Enter the value of second number:\"))\n",
    "    print(\"The Subtraction of the above given two numbers is = \" , a-b)\n",
    "elif(S == \"*\"):\n",
    "    a = int(input(\" Enter the value of first number:\"))\n",
    "    b = int(input(\" Enter the value of second number:\"))\n",
    "    print(\"The Multiplication of the above given two numbers is = \" , a*b)\n",
    "elif(S == \"/\"):\n",
    "    a = int(input(\" Enter the value of first number:\"))\n",
    "    b = int(input(\" Enter the value of second number:\"))\n",
    "    print(\"The Division of the above given two numbers is = \" , a/b)\n",
    "    print(\"The Division of the second number by first number is = \" , b/a)\n",
    "elif(S == \"**\"):\n",
    "    a = int(input(\" Enter the value of first number:\"))\n",
    "    b = int(input(\" Enter the value of second number:\"))\n",
    "    print(\"The Power of the first number to the second number is = \" , a**b)\n",
    "    print(\"The Power of the second number to first number is = \" , b**a)\n",
    "else:\n",
    "    print(\"Oops, there is some error. I think you enter n In-valid symbol. Please try again.\")\n",
    "    "
   ]
  },
  {
   "cell_type": "code",
   "execution_count": 14,
   "metadata": {},
   "outputs": [
    {
     "name": "stdout",
     "output_type": "stream",
     "text": [
      "A  B  C  D  E  \n",
      " No, there is no numeric value in the list.\n"
     ]
    }
   ],
   "source": [
    "# Question : 2\n",
    "# Write a program to check if there any numeric value in list using for loop.\n",
    "\n",
    "List = [\"A\" , \"B\",\"C\",\"D\", \"E\"]\n",
    "for i in List:\n",
    "    print(i , end = \"  \")\n",
    "print()\n",
    "if(str(i).isnumeric()):\n",
    "    print(\" Yes, there is a numeric value in the list.\")\n",
    "else:\n",
    "    print(\" No, there is no numeric value in the list.\")"
   ]
  },
  {
   "cell_type": "code",
   "execution_count": 17,
   "metadata": {},
   "outputs": [
    {
     "name": "stdout",
     "output_type": "stream",
     "text": [
      "(1, 'Karachi')\n",
      "(2, 'Lahore')\n",
      "(3, ' Peshawar')\n",
      "(4, 'Quetta')\n",
      "(5, 'Islamabad')\n",
      "After adding a key into a dictionary:\n",
      "(1, 'Karachi')\n",
      "(2, 'Lahore')\n",
      "(3, ' Peshawar')\n",
      "(4, 'Quetta')\n",
      "(5, 'Islamabad')\n",
      "(6, 'Gilgit Baltistan')\n"
     ]
    }
   ],
   "source": [
    "# Question : 3\n",
    "# Write a python script to add a key into a dictionary\n",
    "\n",
    "D = { 1 : \"Karachi\" , 2: \"Lahore\" , 3: \" Peshawar\" , 4:\"Quetta\" , 5 : \"Islamabad\"}\n",
    "for items in D.items():\n",
    "    print(items)\n",
    "print(\"After adding a key into a dictionary:\")\n",
    "D[6] = \"Gilgit Baltistan\"\n",
    "for items in D.items():\n",
    "    print(items)"
   ]
  },
  {
   "cell_type": "code",
   "execution_count": 42,
   "metadata": {},
   "outputs": [
    {
     "name": "stdout",
     "output_type": "stream",
     "text": [
      " The Sum of the values of the dictionary is =  150\n"
     ]
    }
   ],
   "source": [
    "# Question : 4\n",
    "# Write a python program to sum all the numeric items in a dictionary\n",
    "dictionary = {\"key-1\" : 10 , \"key-2\" : 20, \"key-3\" : 30, \"key-4\" : 40, \"key-5\" : 50}\n",
    "SUM = 0\n",
    "for value in dictionary.values():\n",
    "    SUM +=value\n",
    "print(\" The Sum of the values of the dictionary is = \" , SUM)\n"
   ]
  },
  {
   "cell_type": "code",
   "execution_count": 33,
   "metadata": {},
   "outputs": [
    {
     "name": "stdout",
     "output_type": "stream",
     "text": [
      " False , no element is duplicate  1\n",
      " False , no element is duplicate  2\n",
      " False , no element is duplicate  3\n",
      " True the duplicate element is =  1\n",
      " False , no element is duplicate  4\n",
      " True the duplicate element is =  2\n",
      " False , no element is duplicate  5\n",
      " False , no element is duplicate  6\n",
      " True the duplicate element is =  4\n",
      "\n",
      "Another way of doing this thing:\n",
      "\n",
      "{1, 2, 4}\n",
      "{3, 5, 6}\n"
     ]
    }
   ],
   "source": [
    "# Question : 5\n",
    "# Write a program to identify duplicate value from list\n",
    "l = [1,2,3,1,4,2,5,6,4]\n",
    "duplicate = set()\n",
    "for i in l:\n",
    "    if i in duplicate:\n",
    "        print(\" True the duplicate element is = \" , i)\n",
    "    else:\n",
    "        duplicate.add(i)\n",
    "        print(\" False , no element is duplicate \" , i)\n",
    "print()\n",
    "print(\"Another way of doing this thing:\")\n",
    "print()\n",
    "\n",
    "D= set()\n",
    "ND = set()\n",
    "for element in l:\n",
    "    if(l.count(element) > 1):\n",
    "        D.add(element)\n",
    "    else:\n",
    "        ND.add(element)\n",
    "print(D)\n",
    "print(ND)"
   ]
  },
  {
   "cell_type": "code",
   "execution_count": null,
   "metadata": {},
   "outputs": [],
   "source": []
  },
  {
   "cell_type": "code",
   "execution_count": 55,
   "metadata": {},
   "outputs": [
    {
     "name": "stdout",
     "output_type": "stream",
     "text": [
      "key-1\n",
      "key-2\n",
      "key-3\n",
      "ALready exist\n",
      "key-5\n",
      "key-6\n"
     ]
    }
   ],
   "source": [
    "# Question : 6\n",
    "# Write a python script to check if a given key already exists in a dictionary.\n",
    "dic = {\"key-1\" : 10 , \"key-2\" : 20, \"key-3\" : 30, \"key-4\" : 40, \"key-5\" : 50}\n",
    "dic.update({\"key-6\": 60})\n",
    "for keys in dic.keys():\n",
    "    if(keys == \"key-4\"):\n",
    "        print(\"ALready exist\")\n",
    "    else:\n",
    "        print(keys)\n"
   ]
  },
  {
   "cell_type": "code",
   "execution_count": null,
   "metadata": {},
   "outputs": [],
   "source": []
  }
 ],
 "metadata": {
  "kernelspec": {
   "display_name": "Python 3",
   "language": "python",
   "name": "python3"
  },
  "language_info": {
   "codemirror_mode": {
    "name": "ipython",
    "version": 3
   },
   "file_extension": ".py",
   "mimetype": "text/x-python",
   "name": "python",
   "nbconvert_exporter": "python",
   "pygments_lexer": "ipython3",
   "version": "3.9.0"
  }
 },
 "nbformat": 4,
 "nbformat_minor": 4
}
